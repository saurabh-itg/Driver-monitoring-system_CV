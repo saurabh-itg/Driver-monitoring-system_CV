{
 "cells": [
  {
   "cell_type": "code",
   "execution_count": 1,
   "id": "2b51f80f",
   "metadata": {},
   "outputs": [],
   "source": [
    "import os\n",
    "import numpy as np\n",
    "import pandas as pd\n",
    "\n",
    "import torch\n",
    "import torch.nn as nn\n",
    "import torch.nn.functional as F\n",
    "from torch.utils.data import Dataset, DataLoader, random_split\n",
    "\n",
    "from torch.optim import Adam\n",
    "from torch.nn import BCEWithLogitsLoss\n",
    "\n",
    "from tqdm import tqdm\n",
    "import matplotlib.pyplot as plt\n"
   ]
  },
  {
   "cell_type": "code",
   "execution_count": 2,
   "id": "5b61eb56",
   "metadata": {},
   "outputs": [],
   "source": [
    "class LandmarksCSV(Dataset):\n",
    "    \"\"\"\n",
    "    PyTorch Dataset that:\n",
    "      - Reads a CSV file with columns: \n",
    "          class_label, x1…x68, y1…y68\n",
    "      - Optionally uses only the first n_rows rows.\n",
    "      - For each row, extracts two float vectors of length 68 (x’s and y’s),\n",
    "        stacks them into a tensor of shape (2, 68), and returns (coords, label_idx).\n",
    "    \"\"\"\n",
    "    def __init__(self, csv_path: str, n_rows: int = None):\n",
    "        \"\"\"\n",
    "        Args:\n",
    "            csv_path (str): Path to the CSV file.\n",
    "            n_rows (int, optional): If not None, only read the first n_rows of the CSV.\n",
    "        \"\"\"\n",
    "        # 1. Load the CSV into a pandas DataFrame\n",
    "        self.df = pd.read_csv(csv_path)\n",
    "        if n_rows is not None:\n",
    "            # Keep only the first n_rows\n",
    "            self.df = self.df.iloc[:n_rows].reset_index(drop=True)\n",
    "        \n",
    "        # 2. Build a mapping from class_label (string) → integer index\n",
    "        #    (sorted to ensure reproducibility)\n",
    "        classes = sorted(self.df[\"class_label\"].unique().tolist())\n",
    "        self.class_to_idx = {cls: idx for idx, cls in enumerate(classes)}\n",
    "        \n",
    "        # 3. Precompute the column names for x’s and y’s\n",
    "        self.x_cols = [f\"x{i}\" for i in range(1, 69)]  # [\"x1\", \"x2\", …, \"x68\"]\n",
    "        self.y_cols = [f\"y{i}\" for i in range(1, 69)]  # [\"y1\", \"y2\", …, \"y68\"]\n",
    "        \n",
    "        # 4. (Optional) sanity check: ensure all those columns exist\n",
    "        missing = set(self.x_cols + self.y_cols) - set(self.df.columns)\n",
    "        if missing:\n",
    "            raise ValueError(f\"Missing columns in CSV: {missing}\")\n",
    "    \n",
    "    def __len__(self):\n",
    "        return len(self.df)\n",
    "    \n",
    "    def __getitem__(self, idx):\n",
    "        \"\"\"\n",
    "        Returns:\n",
    "            coords (torch.FloatTensor): shape (2, 68), where\n",
    "                coords[0, :] = [x1, x2, …, x68]\n",
    "                coords[1, :] = [y1, y2, …, y68]\n",
    "            label_idx (int): integer label for this row’s class_label\n",
    "        \"\"\"\n",
    "        row = self.df.iloc[idx]\n",
    "        \n",
    "        # 1. Get the class label and convert to integer index\n",
    "        cls_str = row[\"class_label\"]\n",
    "        label_idx = self.class_to_idx[cls_str]\n",
    "        \n",
    "        # 2. Extract x-values (as a numpy array of shape (68,))\n",
    "        x_vals = row[self.x_cols].to_numpy(dtype=np.float32)\n",
    "        # 3. Extract y-values (as a numpy array of shape (68,))\n",
    "        y_vals = row[self.y_cols].to_numpy(dtype=np.float32)\n",
    "        \n",
    "        # 4. Convert to torch.Tensor\n",
    "        x_tensor = torch.from_numpy(x_vals/320)  # shape: (68,)\n",
    "        y_tensor = torch.from_numpy(y_vals/320)  # shape: (68,)\n",
    "\n",
    "        \n",
    "        # 5. Stack into shape (2, 68) so conv1d can treat these as 2 channels\n",
    "        coords = torch.stack([x_tensor, y_tensor], dim=0)\n",
    "        #    → coords.shape == (2, 68)\n",
    "        \n",
    "        return coords, label_idx\n"
   ]
  },
  {
   "cell_type": "code",
   "execution_count": null,
   "id": "f97fb0ea",
   "metadata": {},
   "outputs": [],
   "source": [
    "class Conv1DBinaryClassifier(nn.Module):\n",
    "    def __init__(self, dropout_p: float = 0.3):\n",
    "        super().__init__()\n",
    "\n",
    "        # Conv block 1: 2 → 16\n",
    "        self.conv1 = nn.Conv1d(in_channels=2, out_channels=16, kernel_size=1)\n",
    "        self.bn1   = nn.BatchNorm1d(16)\n",
    "\n",
    "        flattened_size = 68\n",
    "\n",
    "        # Dense head: 68 → 128 → 64 → 1\n",
    "        self.fc1    = nn.Linear(flattened_size, 128)\n",
    "        self.bn_fc1 = nn.BatchNorm1d(128)\n",
    "\n",
    "        self.fc2    = nn.Linear(128, 32)\n",
    "        self.bn_fc2 = nn.BatchNorm1d(32)\n",
    "\n",
    "        self.drop   = nn.Dropout(p=dropout_p)\n",
    "        self.fc3    = nn.Linear(32, 1)\n",
    "\n",
    "        self.pool = nn.AdaptiveMaxPool1d(1)\n",
    "\n",
    "    def forward(self, x):\n",
    "        # x: (batch, 2, 68)\n",
    "        x = self.conv1(x)     # → (batch, 16, 68)\n",
    "        x = self.bn1(x)\n",
    "        x = F.relu(x)\n",
    "\n",
    "        # Step 1: Permute to make channels to the last dimension\n",
    "        x = x.permute(0, 2, 1)   # [128, 68, 16]\n",
    "        x = self.pool(x)     # → (batch, 68)\n",
    "\n",
    "        x = x.view(x.size(0), -1)  # → (batch, 68)\n",
    "\n",
    "        x = self.fc1(x)       # → (batch, 128)\n",
    "        x = self.bn_fc1(x)\n",
    "        x = F.relu(x)\n",
    "        x = self.drop(x)      # → (batch, 128)\n",
    "\n",
    "        x = self.fc2(x)       # → (batch, 32)\n",
    "        x = self.bn_fc2(x)\n",
    "        x = F.relu(x)\n",
    "        x = self.drop(x)      # → (batch, 32)\n",
    "\n",
    "        logit = self.fc3(x)   # → (batch, 1)\n",
    "        return logit\n"
   ]
  },
  {
   "cell_type": "code",
   "execution_count": 11,
   "id": "521f9314",
   "metadata": {},
   "outputs": [],
   "source": [
    "csv_path = \"updated_csv.csv\"\n",
    "n_rows   = None         # or e.g. 5000 to use only first 5000 rows\n",
    "\n",
    "batch_size = 256\n",
    "num_epochs = 15\n",
    "learning_rate = 5e-4\n",
    "print_every   = 50     # how often to update tqdm postfix\n",
    "\n",
    "device = torch.device(\"cuda\" if torch.cuda.is_available() else \"cpu\")\n"
   ]
  },
  {
   "cell_type": "code",
   "execution_count": 5,
   "id": "30ac619e",
   "metadata": {},
   "outputs": [
    {
     "name": "stdout",
     "output_type": "stream",
     "text": [
      "Total samples: 107042\n",
      " → Train:      96338\n",
      " → Validation: 10704\n",
      "Train class counts: Counter({'distracted': 48172, 'drowsy': 48166})\n",
      "Val   class counts: Counter({'drowsy': 5355, 'distracted': 5349})\n"
     ]
    }
   ],
   "source": [
    "# 2.1) Create the full dataset\n",
    "full_dataset = LandmarksCSV(csv_path, n_rows=n_rows)\n",
    "total_samples = len(full_dataset)\n",
    "\n",
    "# 2.2) Compute sizes\n",
    "val_size   = int(0.10 * total_samples)\n",
    "train_size = total_samples - val_size\n",
    "\n",
    "# 2.3) Random split (use a fixed seed for reproducibility)\n",
    "torch.manual_seed(42)\n",
    "train_dataset, val_dataset = random_split(full_dataset, [train_size, val_size])\n",
    "\n",
    "print(f\"Total samples: {total_samples}\")\n",
    "print(f\" → Train:      {len(train_dataset)}\")\n",
    "print(f\" → Validation: {len(val_dataset)}\")\n",
    "\n",
    "# 2.4) Check class balance roughly (optional)\n",
    "#    If you want to see how many of each class are in train vs val, you can do:\n",
    "from collections import Counter\n",
    "train_labels = [full_dataset.df.iloc[i][\"class_label\"] for i in train_dataset.indices]\n",
    "val_labels   = [full_dataset.df.iloc[i][\"class_label\"] for i in val_dataset.indices]\n",
    "print(\"Train class counts:\", Counter(train_labels))\n",
    "print(\"Val   class counts:\", Counter(val_labels))\n"
   ]
  },
  {
   "cell_type": "code",
   "execution_count": 13,
   "id": "5cac9a3a",
   "metadata": {},
   "outputs": [
    {
     "name": "stdout",
     "output_type": "stream",
     "text": [
      "Train loader: 377 batches per epoch\n",
      "Val   loader: 42 batches per epoch\n"
     ]
    }
   ],
   "source": [
    "train_loader = DataLoader(\n",
    "    train_dataset,\n",
    "    batch_size=batch_size,\n",
    "    shuffle=True,\n",
    "    num_workers=0,    # set >0 only if you wrap scripts under `if __name__==\"__main__\"`\n",
    "    pin_memory=False\n",
    ")\n",
    "\n",
    "val_loader = DataLoader(\n",
    "    val_dataset,\n",
    "    batch_size=batch_size,\n",
    "    shuffle=False,    # no need to shuffle validation\n",
    "    num_workers=0,\n",
    "    pin_memory=False\n",
    ")\n",
    "\n",
    "print(f\"Train loader: {len(train_loader)} batches per epoch\")\n",
    "print(f\"Val   loader: {len(val_loader)} batches per epoch\")\n"
   ]
  },
  {
   "cell_type": "code",
   "execution_count": 7,
   "id": "6de7fd2b",
   "metadata": {},
   "outputs": [
    {
     "name": "stdout",
     "output_type": "stream",
     "text": [
      "Class → index mapping: {'distracted': 0, 'drowsy': 1}\n"
     ]
    }
   ],
   "source": [
    "model = Conv1DBinaryClassifier(dropout_p=0.5).to(device)\n",
    "criterion = BCEWithLogitsLoss()\n",
    "optimizer = Adam(model.parameters(), lr=learning_rate)\n",
    "\n",
    "# Build idx_to_class for possible accuracy calculation\n",
    "idx_to_class = {v: k for k, v in full_dataset.class_to_idx.items()}\n",
    "print(\"Class → index mapping:\", full_dataset.class_to_idx)\n"
   ]
  },
  {
   "cell_type": "code",
   "execution_count": 14,
   "id": "82e9c7e5",
   "metadata": {},
   "outputs": [
    {
     "name": "stderr",
     "output_type": "stream",
     "text": [
      "                                                                                \r"
     ]
    },
    {
     "name": "stdout",
     "output_type": "stream",
     "text": [
      "Epoch 1/15  Train Loss: 0.1701, Train Acc: 0.9398  ||  Val Loss: 0.1444, Val Acc: 0.9531\n"
     ]
    },
    {
     "name": "stderr",
     "output_type": "stream",
     "text": [
      "                                                                                \r"
     ]
    },
    {
     "name": "stdout",
     "output_type": "stream",
     "text": [
      "Epoch 2/15  Train Loss: 0.1532, Train Acc: 0.9478  ||  Val Loss: 0.2106, Val Acc: 0.9096\n"
     ]
    },
    {
     "name": "stderr",
     "output_type": "stream",
     "text": [
      "                                                                                \r"
     ]
    },
    {
     "name": "stdout",
     "output_type": "stream",
     "text": [
      "Epoch 3/15  Train Loss: 0.1428, Train Acc: 0.9513  ||  Val Loss: 0.1813, Val Acc: 0.9304\n"
     ]
    },
    {
     "name": "stderr",
     "output_type": "stream",
     "text": [
      "                                                                                \r"
     ]
    },
    {
     "name": "stdout",
     "output_type": "stream",
     "text": [
      "Epoch 4/15  Train Loss: 0.1321, Train Acc: 0.9548  ||  Val Loss: 0.2939, Val Acc: 0.8691\n"
     ]
    },
    {
     "name": "stderr",
     "output_type": "stream",
     "text": [
      "                                                                                \r"
     ]
    },
    {
     "name": "stdout",
     "output_type": "stream",
     "text": [
      "Epoch 5/15  Train Loss: 0.1225, Train Acc: 0.9584  ||  Val Loss: 0.1211, Val Acc: 0.9502\n"
     ]
    },
    {
     "name": "stderr",
     "output_type": "stream",
     "text": [
      "                                                                                \r"
     ]
    },
    {
     "name": "stdout",
     "output_type": "stream",
     "text": [
      "Epoch 6/15  Train Loss: 0.1164, Train Acc: 0.9612  ||  Val Loss: 0.1073, Val Acc: 0.9629\n"
     ]
    },
    {
     "name": "stderr",
     "output_type": "stream",
     "text": [
      "                                                                                \r"
     ]
    },
    {
     "name": "stdout",
     "output_type": "stream",
     "text": [
      "Epoch 7/15  Train Loss: 0.1095, Train Acc: 0.9635  ||  Val Loss: 0.1280, Val Acc: 0.9455\n"
     ]
    },
    {
     "name": "stderr",
     "output_type": "stream",
     "text": [
      "                                                                                \r"
     ]
    },
    {
     "name": "stdout",
     "output_type": "stream",
     "text": [
      "Epoch 8/15  Train Loss: 0.1058, Train Acc: 0.9640  ||  Val Loss: 0.1278, Val Acc: 0.9528\n"
     ]
    },
    {
     "name": "stderr",
     "output_type": "stream",
     "text": [
      "                                                                                \r"
     ]
    },
    {
     "name": "stdout",
     "output_type": "stream",
     "text": [
      "Epoch 9/15  Train Loss: 0.1028, Train Acc: 0.9658  ||  Val Loss: 0.2144, Val Acc: 0.9167\n"
     ]
    },
    {
     "name": "stderr",
     "output_type": "stream",
     "text": [
      "                                                                                \r"
     ]
    },
    {
     "name": "stdout",
     "output_type": "stream",
     "text": [
      "Epoch 10/15  Train Loss: 0.0971, Train Acc: 0.9674  ||  Val Loss: 0.0696, Val Acc: 0.9777\n"
     ]
    },
    {
     "name": "stderr",
     "output_type": "stream",
     "text": [
      "                                                                                \r"
     ]
    },
    {
     "name": "stdout",
     "output_type": "stream",
     "text": [
      "Epoch 11/15  Train Loss: 0.0956, Train Acc: 0.9676  ||  Val Loss: 0.1275, Val Acc: 0.9541\n"
     ]
    },
    {
     "name": "stderr",
     "output_type": "stream",
     "text": [
      "                                                                                \r"
     ]
    },
    {
     "name": "stdout",
     "output_type": "stream",
     "text": [
      "Epoch 12/15  Train Loss: 0.0912, Train Acc: 0.9696  ||  Val Loss: 0.1929, Val Acc: 0.9224\n"
     ]
    },
    {
     "name": "stderr",
     "output_type": "stream",
     "text": [
      "                                                                                \r"
     ]
    },
    {
     "name": "stdout",
     "output_type": "stream",
     "text": [
      "Epoch 13/15  Train Loss: 0.0875, Train Acc: 0.9698  ||  Val Loss: 0.1825, Val Acc: 0.9339\n"
     ]
    },
    {
     "name": "stderr",
     "output_type": "stream",
     "text": [
      "                                                                                \r"
     ]
    },
    {
     "name": "stdout",
     "output_type": "stream",
     "text": [
      "Epoch 14/15  Train Loss: 0.0851, Train Acc: 0.9708  ||  Val Loss: 0.2049, Val Acc: 0.9199\n"
     ]
    },
    {
     "name": "stderr",
     "output_type": "stream",
     "text": [
      "                                                                                "
     ]
    },
    {
     "name": "stdout",
     "output_type": "stream",
     "text": [
      "Epoch 15/15  Train Loss: 0.0858, Train Acc: 0.9706  ||  Val Loss: 0.0618, Val Acc: 0.9780\n"
     ]
    },
    {
     "name": "stderr",
     "output_type": "stream",
     "text": [
      "\r"
     ]
    }
   ],
   "source": [
    "train_losses_per_epoch = []\n",
    "val_losses_per_epoch   = []\n",
    "train_accs_per_epoch   = []\n",
    "val_accs_per_epoch     = []\n",
    "\n",
    "sigmoid = torch.nn.Sigmoid()\n",
    "\n",
    "for epoch in range(num_epochs):\n",
    "    # -------------------------\n",
    "    # 5.1) Training Phase\n",
    "    # -------------------------\n",
    "    model.train()\n",
    "    running_train_loss = 0.0\n",
    "    correct_train = 0\n",
    "    total_train = 0\n",
    "\n",
    "    num_train_batches = len(train_loader)\n",
    "    loop = tqdm(enumerate(train_loader, start=1),\n",
    "                total=num_train_batches,\n",
    "                desc=f\"Epoch {epoch+1}/{num_epochs} (train)\",\n",
    "                ncols=80,\n",
    "                leave=False)\n",
    "\n",
    "    for batch_idx, (coords, label_idxs) in loop:\n",
    "        coords = coords.to(device, dtype=torch.float32)              # (B,2,68)\n",
    "        labels = label_idxs.to(device, dtype=torch.float32).unsqueeze(1)  # (B,1)\n",
    "\n",
    "        optimizer.zero_grad()\n",
    "        logits = model(coords)                     # (B,1)\n",
    "        loss   = criterion(logits, labels)         # scalar\n",
    "\n",
    "        loss.backward()\n",
    "        optimizer.step()\n",
    "\n",
    "        running_train_loss += loss.item() * coords.size(0)\n",
    "\n",
    "        # Compute training accuracy on this batch:\n",
    "        with torch.no_grad():\n",
    "            probs = sigmoid(logits)                # (B,1)\n",
    "            preds = (probs >= 0.5).long()          # (B,1)\n",
    "            correct_train += (preds.view(-1) == label_idxs.to(device)).sum().item()\n",
    "            total_train   += coords.size(0)\n",
    "\n",
    "        # Update tqdm postfix every print_every\n",
    "        if batch_idx % print_every == 0 or batch_idx == num_train_batches:\n",
    "            avg_loss_so_far = running_train_loss / (batch_idx * batch_size)\n",
    "            loop.set_postfix_str(f\"Batch {batch_idx}/{num_train_batches}  AvgLoss: {avg_loss_so_far:.4f}\")\n",
    "\n",
    "    loop.close()\n",
    "\n",
    "    epoch_train_loss = running_train_loss / train_size\n",
    "    epoch_train_acc  = correct_train / total_train\n",
    "    train_losses_per_epoch.append(epoch_train_loss)\n",
    "    train_accs_per_epoch.append(epoch_train_acc)\n",
    "\n",
    "    # -------------------------\n",
    "    # 5.2) Validation Phase\n",
    "    # -------------------------\n",
    "    model.eval()\n",
    "    running_val_loss = 0.0\n",
    "    correct_val = 0\n",
    "    total_val   = 0\n",
    "\n",
    "    num_val_batches = len(val_loader)\n",
    "    loop_v = tqdm(enumerate(val_loader, start=1),\n",
    "                  total=num_val_batches,\n",
    "                  desc=f\"Epoch {epoch+1}/{num_epochs} (val)\",\n",
    "                  ncols=80,\n",
    "                  leave=False)\n",
    "\n",
    "    with torch.no_grad():\n",
    "        for batch_idx, (coords, label_idxs) in loop_v:\n",
    "            coords = coords.to(device, dtype=torch.float32)\n",
    "            labels = label_idxs.to(device, dtype=torch.float32).unsqueeze(1)\n",
    "\n",
    "            logits = model(coords)                # (B,1)\n",
    "            loss   = criterion(logits, labels)    # scalar\n",
    "            running_val_loss += loss.item() * coords.size(0)\n",
    "\n",
    "            # Compute validation accuracy\n",
    "            probs = sigmoid(logits)\n",
    "            preds = (probs >= 0.5).long()         # (B,1)\n",
    "            correct_val += (preds.view(-1) == label_idxs.to(device)).sum().item()\n",
    "            total_val   += coords.size(0)\n",
    "\n",
    "    loop_v.close()\n",
    "\n",
    "    epoch_val_loss = running_val_loss / val_size\n",
    "    epoch_val_acc  = correct_val / total_val\n",
    "    val_losses_per_epoch.append(epoch_val_loss)\n",
    "    val_accs_per_epoch.append(epoch_val_acc)\n",
    "\n",
    "    # -------------------------\n",
    "    # 5.3) Print Epoch Summary\n",
    "    # -------------------------\n",
    "    print(\n",
    "        f\"Epoch {epoch+1}/{num_epochs}  \"\n",
    "        f\"Train Loss: {epoch_train_loss:.4f}, Train Acc: {epoch_train_acc:.4f}  ||  \"\n",
    "        f\"Val Loss: {epoch_val_loss:.4f}, Val Acc: {epoch_val_acc:.4f}\"\n",
    "    )\n"
   ]
  },
  {
   "cell_type": "code",
   "execution_count": null,
   "id": "cf69d464",
   "metadata": {},
   "outputs": [],
   "source": []
  },
  {
   "cell_type": "code",
   "execution_count": null,
   "id": "68189e2b",
   "metadata": {},
   "outputs": [],
   "source": []
  },
  {
   "cell_type": "code",
   "execution_count": null,
   "id": "78e6d65d",
   "metadata": {},
   "outputs": [],
   "source": []
  },
  {
   "cell_type": "code",
   "execution_count": 15,
   "id": "436b4cd9",
   "metadata": {},
   "outputs": [
    {
     "data": {
      "image/png": "[encoded data removed]",
      "text/plain": [
       "<Figure size 800x500 with 1 Axes>"
      ]
     },
     "metadata": {},
     "output_type": "display_data"
    }
   ],
   "source": [
    "epochs = np.arange(1, num_epochs + 1)\n",
    "\n",
    "plt.figure(figsize=(8, 5))\n",
    "plt.plot(epochs, train_losses_per_epoch, label=\"Train Loss\")\n",
    "plt.plot(epochs, val_losses_per_epoch,   label=\"Val   Loss\")\n",
    "plt.xlabel(\"Epoch\")\n",
    "plt.ylabel(\"Loss\")\n",
    "plt.title(\"Training vs. Validation Loss\")\n",
    "plt.legend()\n",
    "plt.grid(True)\n",
    "plt.show()\n"
   ]
  },
  {
   "cell_type": "code",
   "execution_count": 16,
   "id": "3a0a5767",
   "metadata": {},
   "outputs": [
    {
     "name": "stdout",
     "output_type": "stream",
     "text": [
      "[+] Model checkpoint saved to: saved_landmark_model.pth\n"
     ]
    }
   ],
   "source": [
    "checkpoint = {\n",
    "    \"model_state_dict\": model.state_dict(),\n",
    "    \"class_to_idx\": full_dataset.class_to_idx\n",
    "}\n",
    "\n",
    "save_path = \"saved_landmark_model.pth\"\n",
    "torch.save(checkpoint, save_path)\n",
    "print(f\"[+] Model checkpoint saved to: {save_path}\")\n"
   ]
  }
 ],
 "metadata": {
  "kernelspec": {
   "display_name": ".venv",
   "language": "python",
   "name": "python3"
  },
  "language_info": {
   "codemirror_mode": {
    "name": "ipython",
    "version": 3
   },
   "file_extension": ".py",
   "mimetype": "text/x-python",
   "name": "python",
   "nbconvert_exporter": "python",
   "pygments_lexer": "ipython3",
   "version": "3.12.4"
  }
 },
 "nbformat": 4,
 "nbformat_minor": 5
}
